{
  "cells": [
    {
      "cell_type": "markdown",
      "metadata": {
        "id": "view-in-github",
        "colab_type": "text"
      },
      "source": [
        "<a href=\"https://colab.research.google.com/github/florioux3/BigBrotherCanadaRanking/blob/main/Big_Brother_Canada_.ipynb\" target=\"_parent\"><img src=\"https://colab.research.google.com/assets/colab-badge.svg\" alt=\"Open In Colab\"/></a>"
      ]
    },
    {
      "cell_type": "code",
      "execution_count": null,
      "metadata": {
        "id": "jT1BtUYMqbjm"
      },
      "outputs": [],
      "source": [
        "import numpy as np\n",
        "import pandas as pd"
      ]
    },
    {
      "cell_type": "code",
      "execution_count": null,
      "metadata": {
        "id": "MPdHxZzgqbjr"
      },
      "outputs": [],
      "source": [
        "People = ['Florence', 'Sophie', 'Cedric', 'Samuel']\n",
        "\n",
        "Florence = ['Hope', 'Renee', 'Shanaya', 'Ty', 'Dan', 'Daniel', 'Roberto', 'Claudia', 'Jonathan', 'Santina', 'Zach', 'Anika', 'JM', 'Vanessa', 'Kuzie']\n",
        "Sophie = ['Hope', 'Claudia', 'Anika', 'Roberto', 'Dan', 'Santina', 'JM', 'Daniel', 'Jonathan', 'Vanessa', 'Zach', 'Shanaya', 'Ty', 'Kuzie', 'Renee']\n",
        "Cedric = ['Roberto', 'JM', 'Shanaya', 'Ty', 'Daniel', 'Kuzie', 'Santina', 'Jonathan', 'Zach', 'Vanessa', 'Dan', 'Anika', 'Hope', 'Claudia', 'Renee']\n",
        "Samuel = ['Hope', 'Roberto', 'Claudia', 'Renee', 'Santina', 'Dan', 'Shanaya', 'JM', 'Zach', 'Daniel', 'Kuzie', 'Ty', 'Vanessa', 'Anika', 'Jonathan']\n",
        "\n",
        "Évincés = ['JM', 'Roberto', 'Vanessa', 'Zach', 'Dan', 'Jonathan', 'Hope']\n"
      ]
    },
    {
      "cell_type": "code",
      "execution_count": null,
      "metadata": {
        "id": "CENlz6yLqbjs"
      },
      "outputs": [],
      "source": [
        "Out = np.array([None]* 15)"
      ]
    },
    {
      "cell_type": "code",
      "execution_count": null,
      "metadata": {
        "id": "AR_Xv0Z0qbjt"
      },
      "outputs": [],
      "source": [
        "def rankingdifference(person, contestant, contestant_ranking):\n",
        "    person_ranking = person.index(contestant)\n",
        "    \n",
        "    if person_ranking < contestant_ranking:\n",
        "        return(contestant_ranking - person_ranking)\n",
        "    else:\n",
        "        return(person_ranking - contestant_ranking)\n",
        "    "
      ]
    },
    {
      "cell_type": "code",
      "execution_count": null,
      "metadata": {
        "id": "bew5MuRmqbju"
      },
      "outputs": [],
      "source": [
        "def points_personne_enjeu(person):\n",
        "  \n",
        "    "
      ]
    },
    {
      "cell_type": "code",
      "execution_count": null,
      "metadata": {
        "id": "s7ILmnYiqbju"
      },
      "outputs": [],
      "source": [
        "def points(person):\n",
        "    points = 0 \n",
        "    for contestant in Évincés:\n",
        "        contestant_ranking = 14 - Évincés.index(contestant)\n",
        "        points += rankingdifference(person, contestant, contestant_ranking)\n",
        "    return points"
      ]
    },
    {
      "cell_type": "code",
      "execution_count": null,
      "metadata": {
        "id": "5TYz6nb0qbjv"
      },
      "outputs": [],
      "source": [
        "for contestant in Évincés:\n",
        "    Place = Évincés.index(contestant)\n",
        "    index = 14-Place\n",
        "    np.put(Out, index, contestant)"
      ]
    },
    {
      "cell_type": "code",
      "execution_count": null,
      "metadata": {
        "id": "MmeRokY4qbjw"
      },
      "outputs": [],
      "source": [
        "dict = {'Florence':[points(Florence)],\n",
        "        'Sophie':[points(Sophie)],\n",
        "        'Cedric':[points(Cedric)],\n",
        "        'Samuel':[points(Samuel)],\n",
        "        'Évincés': ['-']\n",
        "       }\n",
        "  \n",
        "Points = pd.DataFrame(dict, index=['Points'])"
      ]
    },
    {
      "cell_type": "code",
      "execution_count": null,
      "metadata": {
        "id": "oydVHSW3qbjw"
      },
      "outputs": [],
      "source": [
        "Index = People\n",
        "Index.append('Évincés')"
      ]
    },
    {
      "cell_type": "code",
      "execution_count": null,
      "metadata": {
        "id": "7OPkWFjUqbjx"
      },
      "outputs": [],
      "source": [
        "Ranking = pd.DataFrame(np.array([Florence, Sophie, Cedric, Samuel, Out]), index=Index, columns=range(1,16))\n",
        "Ranking = Ranking.transpose()"
      ]
    },
    {
      "cell_type": "code",
      "execution_count": null,
      "metadata": {
        "id": "V0a3-yvmqbjx"
      },
      "outputs": [],
      "source": [
        "Total = pd.concat([Ranking, Points])"
      ]
    },
    {
      "cell_type": "code",
      "execution_count": null,
      "metadata": {
        "id": "IPy7q9D4qbjy",
        "outputId": "283b2397-d329-4fe2-d06a-b9a9fae913cb"
      },
      "outputs": [
        {
          "data": {
            "text/html": [
              "<style  type=\"text/css\" >\n",
              "    #T_4ae65868_e0cd_11ed_99f9_985fd334d005row0_col0 {\n",
              "            color:  red;\n",
              "        }    #T_4ae65868_e0cd_11ed_99f9_985fd334d005row0_col1 {\n",
              "            color:  red;\n",
              "        }    #T_4ae65868_e0cd_11ed_99f9_985fd334d005row0_col2 {\n",
              "            color:  red;\n",
              "        }    #T_4ae65868_e0cd_11ed_99f9_985fd334d005row0_col3 {\n",
              "            color:  red;\n",
              "        }    #T_4ae65868_e0cd_11ed_99f9_985fd334d005row0_col4 {\n",
              "            color:  ;\n",
              "        }    #T_4ae65868_e0cd_11ed_99f9_985fd334d005row1_col0 {\n",
              "            color:  ;\n",
              "        }    #T_4ae65868_e0cd_11ed_99f9_985fd334d005row1_col1 {\n",
              "            color:  ;\n",
              "        }    #T_4ae65868_e0cd_11ed_99f9_985fd334d005row1_col2 {\n",
              "            color:  red;\n",
              "        }    #T_4ae65868_e0cd_11ed_99f9_985fd334d005row1_col3 {\n",
              "            color:  red;\n",
              "        }    #T_4ae65868_e0cd_11ed_99f9_985fd334d005row1_col4 {\n",
              "            color:  ;\n",
              "        }    #T_4ae65868_e0cd_11ed_99f9_985fd334d005row2_col0 {\n",
              "            color:  ;\n",
              "        }    #T_4ae65868_e0cd_11ed_99f9_985fd334d005row2_col1 {\n",
              "            color:  ;\n",
              "        }    #T_4ae65868_e0cd_11ed_99f9_985fd334d005row2_col2 {\n",
              "            color:  ;\n",
              "        }    #T_4ae65868_e0cd_11ed_99f9_985fd334d005row2_col3 {\n",
              "            color:  ;\n",
              "        }    #T_4ae65868_e0cd_11ed_99f9_985fd334d005row2_col4 {\n",
              "            color:  ;\n",
              "        }    #T_4ae65868_e0cd_11ed_99f9_985fd334d005row3_col0 {\n",
              "            color:  ;\n",
              "        }    #T_4ae65868_e0cd_11ed_99f9_985fd334d005row3_col1 {\n",
              "            color:  red;\n",
              "        }    #T_4ae65868_e0cd_11ed_99f9_985fd334d005row3_col2 {\n",
              "            color:  ;\n",
              "        }    #T_4ae65868_e0cd_11ed_99f9_985fd334d005row3_col3 {\n",
              "            color:  ;\n",
              "        }    #T_4ae65868_e0cd_11ed_99f9_985fd334d005row3_col4 {\n",
              "            color:  ;\n",
              "        }    #T_4ae65868_e0cd_11ed_99f9_985fd334d005row4_col0 {\n",
              "            color:  red;\n",
              "        }    #T_4ae65868_e0cd_11ed_99f9_985fd334d005row4_col1 {\n",
              "            color:  red;\n",
              "        }    #T_4ae65868_e0cd_11ed_99f9_985fd334d005row4_col2 {\n",
              "            color:  ;\n",
              "        }    #T_4ae65868_e0cd_11ed_99f9_985fd334d005row4_col3 {\n",
              "            color:  ;\n",
              "        }    #T_4ae65868_e0cd_11ed_99f9_985fd334d005row4_col4 {\n",
              "            color:  ;\n",
              "        }    #T_4ae65868_e0cd_11ed_99f9_985fd334d005row5_col0 {\n",
              "            color:  ;\n",
              "        }    #T_4ae65868_e0cd_11ed_99f9_985fd334d005row5_col1 {\n",
              "            color:  ;\n",
              "        }    #T_4ae65868_e0cd_11ed_99f9_985fd334d005row5_col2 {\n",
              "            color:  ;\n",
              "        }    #T_4ae65868_e0cd_11ed_99f9_985fd334d005row5_col3 {\n",
              "            color:  red;\n",
              "        }    #T_4ae65868_e0cd_11ed_99f9_985fd334d005row5_col4 {\n",
              "            color:  ;\n",
              "        }    #T_4ae65868_e0cd_11ed_99f9_985fd334d005row6_col0 {\n",
              "            color:  red;\n",
              "        }    #T_4ae65868_e0cd_11ed_99f9_985fd334d005row6_col1 {\n",
              "            color:  red;\n",
              "        }    #T_4ae65868_e0cd_11ed_99f9_985fd334d005row6_col2 {\n",
              "            color:  ;\n",
              "        }    #T_4ae65868_e0cd_11ed_99f9_985fd334d005row6_col3 {\n",
              "            color:  ;\n",
              "        }    #T_4ae65868_e0cd_11ed_99f9_985fd334d005row6_col4 {\n",
              "            color:  ;\n",
              "        }    #T_4ae65868_e0cd_11ed_99f9_985fd334d005row7_col0 {\n",
              "            color:  ;\n",
              "        }    #T_4ae65868_e0cd_11ed_99f9_985fd334d005row7_col1 {\n",
              "            color:  ;\n",
              "        }    #T_4ae65868_e0cd_11ed_99f9_985fd334d005row7_col2 {\n",
              "            color:  red;\n",
              "        }    #T_4ae65868_e0cd_11ed_99f9_985fd334d005row7_col3 {\n",
              "            color:  red;\n",
              "        }    #T_4ae65868_e0cd_11ed_99f9_985fd334d005row7_col4 {\n",
              "            color:  ;\n",
              "        }    #T_4ae65868_e0cd_11ed_99f9_985fd334d005row8_col0 {\n",
              "            color:  red;\n",
              "        }    #T_4ae65868_e0cd_11ed_99f9_985fd334d005row8_col1 {\n",
              "            color:  red;\n",
              "        }    #T_4ae65868_e0cd_11ed_99f9_985fd334d005row8_col2 {\n",
              "            color:  red;\n",
              "        }    #T_4ae65868_e0cd_11ed_99f9_985fd334d005row8_col3 {\n",
              "            color:  red;\n",
              "        }    #T_4ae65868_e0cd_11ed_99f9_985fd334d005row8_col4 {\n",
              "            color:  red;\n",
              "        }    #T_4ae65868_e0cd_11ed_99f9_985fd334d005row9_col0 {\n",
              "            color:  ;\n",
              "        }    #T_4ae65868_e0cd_11ed_99f9_985fd334d005row9_col1 {\n",
              "            color:  red;\n",
              "        }    #T_4ae65868_e0cd_11ed_99f9_985fd334d005row9_col2 {\n",
              "            color:  red;\n",
              "        }    #T_4ae65868_e0cd_11ed_99f9_985fd334d005row9_col3 {\n",
              "            color:  ;\n",
              "        }    #T_4ae65868_e0cd_11ed_99f9_985fd334d005row9_col4 {\n",
              "            color:  red;\n",
              "        }    #T_4ae65868_e0cd_11ed_99f9_985fd334d005row10_col0 {\n",
              "            color:  red;\n",
              "        }    #T_4ae65868_e0cd_11ed_99f9_985fd334d005row10_col1 {\n",
              "            color:  red;\n",
              "        }    #T_4ae65868_e0cd_11ed_99f9_985fd334d005row10_col2 {\n",
              "            color:  red;\n",
              "        }    #T_4ae65868_e0cd_11ed_99f9_985fd334d005row10_col3 {\n",
              "            color:  ;\n",
              "        }    #T_4ae65868_e0cd_11ed_99f9_985fd334d005row10_col4 {\n",
              "            color:  red;\n",
              "        }    #T_4ae65868_e0cd_11ed_99f9_985fd334d005row11_col0 {\n",
              "            color:  ;\n",
              "        }    #T_4ae65868_e0cd_11ed_99f9_985fd334d005row11_col1 {\n",
              "            color:  ;\n",
              "        }    #T_4ae65868_e0cd_11ed_99f9_985fd334d005row11_col2 {\n",
              "            color:  ;\n",
              "        }    #T_4ae65868_e0cd_11ed_99f9_985fd334d005row11_col3 {\n",
              "            color:  ;\n",
              "        }    #T_4ae65868_e0cd_11ed_99f9_985fd334d005row11_col4 {\n",
              "            color:  red;\n",
              "        }    #T_4ae65868_e0cd_11ed_99f9_985fd334d005row12_col0 {\n",
              "            color:  red;\n",
              "        }    #T_4ae65868_e0cd_11ed_99f9_985fd334d005row12_col1 {\n",
              "            color:  ;\n",
              "        }    #T_4ae65868_e0cd_11ed_99f9_985fd334d005row12_col2 {\n",
              "            color:  red;\n",
              "        }    #T_4ae65868_e0cd_11ed_99f9_985fd334d005row12_col3 {\n",
              "            color:  red;\n",
              "        }    #T_4ae65868_e0cd_11ed_99f9_985fd334d005row12_col4 {\n",
              "            color:  red;\n",
              "        }    #T_4ae65868_e0cd_11ed_99f9_985fd334d005row13_col0 {\n",
              "            color:  red;\n",
              "        }    #T_4ae65868_e0cd_11ed_99f9_985fd334d005row13_col1 {\n",
              "            color:  ;\n",
              "        }    #T_4ae65868_e0cd_11ed_99f9_985fd334d005row13_col2 {\n",
              "            color:  ;\n",
              "        }    #T_4ae65868_e0cd_11ed_99f9_985fd334d005row13_col3 {\n",
              "            color:  ;\n",
              "        }    #T_4ae65868_e0cd_11ed_99f9_985fd334d005row13_col4 {\n",
              "            color:  red;\n",
              "        }    #T_4ae65868_e0cd_11ed_99f9_985fd334d005row14_col0 {\n",
              "            color:  ;\n",
              "        }    #T_4ae65868_e0cd_11ed_99f9_985fd334d005row14_col1 {\n",
              "            color:  ;\n",
              "        }    #T_4ae65868_e0cd_11ed_99f9_985fd334d005row14_col2 {\n",
              "            color:  ;\n",
              "        }    #T_4ae65868_e0cd_11ed_99f9_985fd334d005row14_col3 {\n",
              "            color:  red;\n",
              "        }    #T_4ae65868_e0cd_11ed_99f9_985fd334d005row14_col4 {\n",
              "            color:  red;\n",
              "        }    #T_4ae65868_e0cd_11ed_99f9_985fd334d005row15_col0 {\n",
              "            color:  ;\n",
              "        }    #T_4ae65868_e0cd_11ed_99f9_985fd334d005row15_col1 {\n",
              "            color:  ;\n",
              "        }    #T_4ae65868_e0cd_11ed_99f9_985fd334d005row15_col2 {\n",
              "            color:  ;\n",
              "        }    #T_4ae65868_e0cd_11ed_99f9_985fd334d005row15_col3 {\n",
              "            color:  ;\n",
              "        }    #T_4ae65868_e0cd_11ed_99f9_985fd334d005row15_col4 {\n",
              "            color:  ;\n",
              "        }</style><table id=\"T_4ae65868_e0cd_11ed_99f9_985fd334d005\" ><thead>    <tr>        <th class=\"blank level0\" ></th>        <th class=\"col_heading level0 col0\" >Florence</th>        <th class=\"col_heading level0 col1\" >Sophie</th>        <th class=\"col_heading level0 col2\" >Cedric</th>        <th class=\"col_heading level0 col3\" >Samuel</th>        <th class=\"col_heading level0 col4\" >Évincés</th>    </tr></thead><tbody>\n",
              "                <tr>\n",
              "                        <th id=\"T_4ae65868_e0cd_11ed_99f9_985fd334d005level0_row0\" class=\"row_heading level0 row0\" >1</th>\n",
              "                        <td id=\"T_4ae65868_e0cd_11ed_99f9_985fd334d005row0_col0\" class=\"data row0 col0\" >Hope</td>\n",
              "                        <td id=\"T_4ae65868_e0cd_11ed_99f9_985fd334d005row0_col1\" class=\"data row0 col1\" >Hope</td>\n",
              "                        <td id=\"T_4ae65868_e0cd_11ed_99f9_985fd334d005row0_col2\" class=\"data row0 col2\" >Roberto</td>\n",
              "                        <td id=\"T_4ae65868_e0cd_11ed_99f9_985fd334d005row0_col3\" class=\"data row0 col3\" >Hope</td>\n",
              "                        <td id=\"T_4ae65868_e0cd_11ed_99f9_985fd334d005row0_col4\" class=\"data row0 col4\" >None</td>\n",
              "            </tr>\n",
              "            <tr>\n",
              "                        <th id=\"T_4ae65868_e0cd_11ed_99f9_985fd334d005level0_row1\" class=\"row_heading level0 row1\" >2</th>\n",
              "                        <td id=\"T_4ae65868_e0cd_11ed_99f9_985fd334d005row1_col0\" class=\"data row1 col0\" >Renee</td>\n",
              "                        <td id=\"T_4ae65868_e0cd_11ed_99f9_985fd334d005row1_col1\" class=\"data row1 col1\" >Claudia</td>\n",
              "                        <td id=\"T_4ae65868_e0cd_11ed_99f9_985fd334d005row1_col2\" class=\"data row1 col2\" >JM</td>\n",
              "                        <td id=\"T_4ae65868_e0cd_11ed_99f9_985fd334d005row1_col3\" class=\"data row1 col3\" >Roberto</td>\n",
              "                        <td id=\"T_4ae65868_e0cd_11ed_99f9_985fd334d005row1_col4\" class=\"data row1 col4\" >None</td>\n",
              "            </tr>\n",
              "            <tr>\n",
              "                        <th id=\"T_4ae65868_e0cd_11ed_99f9_985fd334d005level0_row2\" class=\"row_heading level0 row2\" >3</th>\n",
              "                        <td id=\"T_4ae65868_e0cd_11ed_99f9_985fd334d005row2_col0\" class=\"data row2 col0\" >Shanaya</td>\n",
              "                        <td id=\"T_4ae65868_e0cd_11ed_99f9_985fd334d005row2_col1\" class=\"data row2 col1\" >Anika</td>\n",
              "                        <td id=\"T_4ae65868_e0cd_11ed_99f9_985fd334d005row2_col2\" class=\"data row2 col2\" >Shanaya</td>\n",
              "                        <td id=\"T_4ae65868_e0cd_11ed_99f9_985fd334d005row2_col3\" class=\"data row2 col3\" >Claudia</td>\n",
              "                        <td id=\"T_4ae65868_e0cd_11ed_99f9_985fd334d005row2_col4\" class=\"data row2 col4\" >None</td>\n",
              "            </tr>\n",
              "            <tr>\n",
              "                        <th id=\"T_4ae65868_e0cd_11ed_99f9_985fd334d005level0_row3\" class=\"row_heading level0 row3\" >4</th>\n",
              "                        <td id=\"T_4ae65868_e0cd_11ed_99f9_985fd334d005row3_col0\" class=\"data row3 col0\" >Ty</td>\n",
              "                        <td id=\"T_4ae65868_e0cd_11ed_99f9_985fd334d005row3_col1\" class=\"data row3 col1\" >Roberto</td>\n",
              "                        <td id=\"T_4ae65868_e0cd_11ed_99f9_985fd334d005row3_col2\" class=\"data row3 col2\" >Ty</td>\n",
              "                        <td id=\"T_4ae65868_e0cd_11ed_99f9_985fd334d005row3_col3\" class=\"data row3 col3\" >Renee</td>\n",
              "                        <td id=\"T_4ae65868_e0cd_11ed_99f9_985fd334d005row3_col4\" class=\"data row3 col4\" >None</td>\n",
              "            </tr>\n",
              "            <tr>\n",
              "                        <th id=\"T_4ae65868_e0cd_11ed_99f9_985fd334d005level0_row4\" class=\"row_heading level0 row4\" >5</th>\n",
              "                        <td id=\"T_4ae65868_e0cd_11ed_99f9_985fd334d005row4_col0\" class=\"data row4 col0\" >Dan</td>\n",
              "                        <td id=\"T_4ae65868_e0cd_11ed_99f9_985fd334d005row4_col1\" class=\"data row4 col1\" >Dan</td>\n",
              "                        <td id=\"T_4ae65868_e0cd_11ed_99f9_985fd334d005row4_col2\" class=\"data row4 col2\" >Daniel</td>\n",
              "                        <td id=\"T_4ae65868_e0cd_11ed_99f9_985fd334d005row4_col3\" class=\"data row4 col3\" >Santina</td>\n",
              "                        <td id=\"T_4ae65868_e0cd_11ed_99f9_985fd334d005row4_col4\" class=\"data row4 col4\" >None</td>\n",
              "            </tr>\n",
              "            <tr>\n",
              "                        <th id=\"T_4ae65868_e0cd_11ed_99f9_985fd334d005level0_row5\" class=\"row_heading level0 row5\" >6</th>\n",
              "                        <td id=\"T_4ae65868_e0cd_11ed_99f9_985fd334d005row5_col0\" class=\"data row5 col0\" >Daniel</td>\n",
              "                        <td id=\"T_4ae65868_e0cd_11ed_99f9_985fd334d005row5_col1\" class=\"data row5 col1\" >Santina</td>\n",
              "                        <td id=\"T_4ae65868_e0cd_11ed_99f9_985fd334d005row5_col2\" class=\"data row5 col2\" >Kuzie</td>\n",
              "                        <td id=\"T_4ae65868_e0cd_11ed_99f9_985fd334d005row5_col3\" class=\"data row5 col3\" >Dan</td>\n",
              "                        <td id=\"T_4ae65868_e0cd_11ed_99f9_985fd334d005row5_col4\" class=\"data row5 col4\" >None</td>\n",
              "            </tr>\n",
              "            <tr>\n",
              "                        <th id=\"T_4ae65868_e0cd_11ed_99f9_985fd334d005level0_row6\" class=\"row_heading level0 row6\" >7</th>\n",
              "                        <td id=\"T_4ae65868_e0cd_11ed_99f9_985fd334d005row6_col0\" class=\"data row6 col0\" >Roberto</td>\n",
              "                        <td id=\"T_4ae65868_e0cd_11ed_99f9_985fd334d005row6_col1\" class=\"data row6 col1\" >JM</td>\n",
              "                        <td id=\"T_4ae65868_e0cd_11ed_99f9_985fd334d005row6_col2\" class=\"data row6 col2\" >Santina</td>\n",
              "                        <td id=\"T_4ae65868_e0cd_11ed_99f9_985fd334d005row6_col3\" class=\"data row6 col3\" >Shanaya</td>\n",
              "                        <td id=\"T_4ae65868_e0cd_11ed_99f9_985fd334d005row6_col4\" class=\"data row6 col4\" >None</td>\n",
              "            </tr>\n",
              "            <tr>\n",
              "                        <th id=\"T_4ae65868_e0cd_11ed_99f9_985fd334d005level0_row7\" class=\"row_heading level0 row7\" >8</th>\n",
              "                        <td id=\"T_4ae65868_e0cd_11ed_99f9_985fd334d005row7_col0\" class=\"data row7 col0\" >Claudia</td>\n",
              "                        <td id=\"T_4ae65868_e0cd_11ed_99f9_985fd334d005row7_col1\" class=\"data row7 col1\" >Daniel</td>\n",
              "                        <td id=\"T_4ae65868_e0cd_11ed_99f9_985fd334d005row7_col2\" class=\"data row7 col2\" >Jonathan</td>\n",
              "                        <td id=\"T_4ae65868_e0cd_11ed_99f9_985fd334d005row7_col3\" class=\"data row7 col3\" >JM</td>\n",
              "                        <td id=\"T_4ae65868_e0cd_11ed_99f9_985fd334d005row7_col4\" class=\"data row7 col4\" >None</td>\n",
              "            </tr>\n",
              "            <tr>\n",
              "                        <th id=\"T_4ae65868_e0cd_11ed_99f9_985fd334d005level0_row8\" class=\"row_heading level0 row8\" >9</th>\n",
              "                        <td id=\"T_4ae65868_e0cd_11ed_99f9_985fd334d005row8_col0\" class=\"data row8 col0\" >Jonathan</td>\n",
              "                        <td id=\"T_4ae65868_e0cd_11ed_99f9_985fd334d005row8_col1\" class=\"data row8 col1\" >Jonathan</td>\n",
              "                        <td id=\"T_4ae65868_e0cd_11ed_99f9_985fd334d005row8_col2\" class=\"data row8 col2\" >Zach</td>\n",
              "                        <td id=\"T_4ae65868_e0cd_11ed_99f9_985fd334d005row8_col3\" class=\"data row8 col3\" >Zach</td>\n",
              "                        <td id=\"T_4ae65868_e0cd_11ed_99f9_985fd334d005row8_col4\" class=\"data row8 col4\" >Hope</td>\n",
              "            </tr>\n",
              "            <tr>\n",
              "                        <th id=\"T_4ae65868_e0cd_11ed_99f9_985fd334d005level0_row9\" class=\"row_heading level0 row9\" >10</th>\n",
              "                        <td id=\"T_4ae65868_e0cd_11ed_99f9_985fd334d005row9_col0\" class=\"data row9 col0\" >Santina</td>\n",
              "                        <td id=\"T_4ae65868_e0cd_11ed_99f9_985fd334d005row9_col1\" class=\"data row9 col1\" >Vanessa</td>\n",
              "                        <td id=\"T_4ae65868_e0cd_11ed_99f9_985fd334d005row9_col2\" class=\"data row9 col2\" >Vanessa</td>\n",
              "                        <td id=\"T_4ae65868_e0cd_11ed_99f9_985fd334d005row9_col3\" class=\"data row9 col3\" >Daniel</td>\n",
              "                        <td id=\"T_4ae65868_e0cd_11ed_99f9_985fd334d005row9_col4\" class=\"data row9 col4\" >Jonathan</td>\n",
              "            </tr>\n",
              "            <tr>\n",
              "                        <th id=\"T_4ae65868_e0cd_11ed_99f9_985fd334d005level0_row10\" class=\"row_heading level0 row10\" >11</th>\n",
              "                        <td id=\"T_4ae65868_e0cd_11ed_99f9_985fd334d005row10_col0\" class=\"data row10 col0\" >Zach</td>\n",
              "                        <td id=\"T_4ae65868_e0cd_11ed_99f9_985fd334d005row10_col1\" class=\"data row10 col1\" >Zach</td>\n",
              "                        <td id=\"T_4ae65868_e0cd_11ed_99f9_985fd334d005row10_col2\" class=\"data row10 col2\" >Dan</td>\n",
              "                        <td id=\"T_4ae65868_e0cd_11ed_99f9_985fd334d005row10_col3\" class=\"data row10 col3\" >Kuzie</td>\n",
              "                        <td id=\"T_4ae65868_e0cd_11ed_99f9_985fd334d005row10_col4\" class=\"data row10 col4\" >Dan</td>\n",
              "            </tr>\n",
              "            <tr>\n",
              "                        <th id=\"T_4ae65868_e0cd_11ed_99f9_985fd334d005level0_row11\" class=\"row_heading level0 row11\" >12</th>\n",
              "                        <td id=\"T_4ae65868_e0cd_11ed_99f9_985fd334d005row11_col0\" class=\"data row11 col0\" >Anika</td>\n",
              "                        <td id=\"T_4ae65868_e0cd_11ed_99f9_985fd334d005row11_col1\" class=\"data row11 col1\" >Shanaya</td>\n",
              "                        <td id=\"T_4ae65868_e0cd_11ed_99f9_985fd334d005row11_col2\" class=\"data row11 col2\" >Anika</td>\n",
              "                        <td id=\"T_4ae65868_e0cd_11ed_99f9_985fd334d005row11_col3\" class=\"data row11 col3\" >Ty</td>\n",
              "                        <td id=\"T_4ae65868_e0cd_11ed_99f9_985fd334d005row11_col4\" class=\"data row11 col4\" >Zach</td>\n",
              "            </tr>\n",
              "            <tr>\n",
              "                        <th id=\"T_4ae65868_e0cd_11ed_99f9_985fd334d005level0_row12\" class=\"row_heading level0 row12\" >13</th>\n",
              "                        <td id=\"T_4ae65868_e0cd_11ed_99f9_985fd334d005row12_col0\" class=\"data row12 col0\" >JM</td>\n",
              "                        <td id=\"T_4ae65868_e0cd_11ed_99f9_985fd334d005row12_col1\" class=\"data row12 col1\" >Ty</td>\n",
              "                        <td id=\"T_4ae65868_e0cd_11ed_99f9_985fd334d005row12_col2\" class=\"data row12 col2\" >Hope</td>\n",
              "                        <td id=\"T_4ae65868_e0cd_11ed_99f9_985fd334d005row12_col3\" class=\"data row12 col3\" >Vanessa</td>\n",
              "                        <td id=\"T_4ae65868_e0cd_11ed_99f9_985fd334d005row12_col4\" class=\"data row12 col4\" >Vanessa</td>\n",
              "            </tr>\n",
              "            <tr>\n",
              "                        <th id=\"T_4ae65868_e0cd_11ed_99f9_985fd334d005level0_row13\" class=\"row_heading level0 row13\" >14</th>\n",
              "                        <td id=\"T_4ae65868_e0cd_11ed_99f9_985fd334d005row13_col0\" class=\"data row13 col0\" >Vanessa</td>\n",
              "                        <td id=\"T_4ae65868_e0cd_11ed_99f9_985fd334d005row13_col1\" class=\"data row13 col1\" >Kuzie</td>\n",
              "                        <td id=\"T_4ae65868_e0cd_11ed_99f9_985fd334d005row13_col2\" class=\"data row13 col2\" >Claudia</td>\n",
              "                        <td id=\"T_4ae65868_e0cd_11ed_99f9_985fd334d005row13_col3\" class=\"data row13 col3\" >Anika</td>\n",
              "                        <td id=\"T_4ae65868_e0cd_11ed_99f9_985fd334d005row13_col4\" class=\"data row13 col4\" >Roberto</td>\n",
              "            </tr>\n",
              "            <tr>\n",
              "                        <th id=\"T_4ae65868_e0cd_11ed_99f9_985fd334d005level0_row14\" class=\"row_heading level0 row14\" >15</th>\n",
              "                        <td id=\"T_4ae65868_e0cd_11ed_99f9_985fd334d005row14_col0\" class=\"data row14 col0\" >Kuzie</td>\n",
              "                        <td id=\"T_4ae65868_e0cd_11ed_99f9_985fd334d005row14_col1\" class=\"data row14 col1\" >Renee</td>\n",
              "                        <td id=\"T_4ae65868_e0cd_11ed_99f9_985fd334d005row14_col2\" class=\"data row14 col2\" >Renee</td>\n",
              "                        <td id=\"T_4ae65868_e0cd_11ed_99f9_985fd334d005row14_col3\" class=\"data row14 col3\" >Jonathan</td>\n",
              "                        <td id=\"T_4ae65868_e0cd_11ed_99f9_985fd334d005row14_col4\" class=\"data row14 col4\" >JM</td>\n",
              "            </tr>\n",
              "            <tr>\n",
              "                        <th id=\"T_4ae65868_e0cd_11ed_99f9_985fd334d005level0_row15\" class=\"row_heading level0 row15\" >Points</th>\n",
              "                        <td id=\"T_4ae65868_e0cd_11ed_99f9_985fd334d005row15_col0\" class=\"data row15 col0\" >26</td>\n",
              "                        <td id=\"T_4ae65868_e0cd_11ed_99f9_985fd334d005row15_col1\" class=\"data row15 col1\" >37</td>\n",
              "                        <td id=\"T_4ae65868_e0cd_11ed_99f9_985fd334d005row15_col2\" class=\"data row15 col2\" >38</td>\n",
              "                        <td id=\"T_4ae65868_e0cd_11ed_99f9_985fd334d005row15_col3\" class=\"data row15 col3\" >40</td>\n",
              "                        <td id=\"T_4ae65868_e0cd_11ed_99f9_985fd334d005row15_col4\" class=\"data row15 col4\" >-</td>\n",
              "            </tr>\n",
              "    </tbody></table>"
            ],
            "text/plain": [
              "<pandas.io.formats.style.Styler at 0x211ea8c4278>"
            ]
          },
          "execution_count": 49,
          "metadata": {},
          "output_type": "execute_result"
        }
      ],
      "source": [
        "def highlight_cells(val):\n",
        "    color = 'red' if val in Évincés else ''\n",
        "    return 'color: {}'.format(color)\n",
        "\n",
        "Total.style.applymap(highlight_cells)"
      ]
    },
    {
      "cell_type": "code",
      "execution_count": null,
      "metadata": {
        "id": "yHJGWutPqbjz"
      },
      "outputs": [],
      "source": []
    }
  ],
  "metadata": {
    "kernelspec": {
      "display_name": "Python 3",
      "language": "python",
      "name": "python3"
    },
    "language_info": {
      "codemirror_mode": {
        "name": "ipython",
        "version": 3
      },
      "file_extension": ".py",
      "mimetype": "text/x-python",
      "name": "python",
      "nbconvert_exporter": "python",
      "pygments_lexer": "ipython3",
      "version": "3.6.8"
    },
    "colab": {
      "provenance": [],
      "include_colab_link": true
    }
  },
  "nbformat": 4,
  "nbformat_minor": 0
}